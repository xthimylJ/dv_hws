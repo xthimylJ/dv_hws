{
 "cells": [
  {
   "cell_type": "markdown",
   "id": "2961b96c-067e-4cd3-a68c-f7c96a76e362",
   "metadata": {},
   "source": [
    "#### What is ment by data visualization?"
   ]
  },
  {
   "cell_type": "markdown",
   "id": "874a1b1a-92f2-4712-858f-aa730e6bd3c2",
   "metadata": {},
   "source": [
    "Data visualization is the graphical representation of data and information. It helps in understanding complex datasets by displaying patterns, trends, and insights using visual elements such as:  \n",
    "\n",
    "* Charts (bar charts, pie charts, line charts)  \n",
    "* Graphs (scatter plots, histograms)  \n",
    "* Maps (heat maps, geographical maps)  \n",
    "* Dashboards (interactive reports)  "
   ]
  },
  {
   "cell_type": "markdown",
   "id": "d96b0160-2ae2-4fb0-9b91-4fa8a1582599",
   "metadata": {},
   "source": [
    "#### Why is Data Visualization Important?"
   ]
  },
  {
   "cell_type": "markdown",
   "id": "5f26ee07-7738-4f71-a794-c0d3ccc020b8",
   "metadata": {},
   "source": [
    "* Easier Data Interpretation – Makes raw data more understandable.  \n",
    "* Identifies Trends and Patterns – Helps in recognizing insights quickly.  \n",
    "* Better Decision Making – Supports data-driven strategies.  \n",
    "* Communicates Insights Effectively – Helps businesses, analysts, and stakeholders.  "
   ]
  },
  {
   "cell_type": "markdown",
   "id": "e9e466d2-a9bc-42e0-87cc-ee49d626ade3",
   "metadata": {},
   "source": [
    "#### Why do modern businesses need data visualization?"
   ]
  },
  {
   "cell_type": "markdown",
   "id": "726c8db3-182c-446b-864c-babb08693003",
   "metadata": {},
   "source": [
    "Modern businesses generate vast amounts of data daily. Data visualization helps them make sense of this data and use it for strategic decision-making. Here’s why it is essential:  \n",
    "* Faster Decision-Making\n",
    "* Identifying Trends and Patterns\n",
    "* Improved Communication and Reporting\n",
    "* Competitive Advantage\n",
    "* Enhanced Productivity and Efficiency\n",
    "* Real-Time Monitoring and Alerts\n",
    "* Better Customer Insights\n",
    "* Supports Data-Driven Culture"
   ]
  },
  {
   "cell_type": "markdown",
   "id": "b4cbcb34-ebcf-4259-8e0c-a8962f891429",
   "metadata": {},
   "source": [
    "#### How is data visualization used for business decision-making?"
   ]
  },
  {
   "cell_type": "markdown",
   "id": "94d6ec83-1055-459c-99d3-78f71ed40514",
   "metadata": {},
   "source": [
    "Data visualization helps businesses transform raw data into actionable insights, enabling better, faster, and more informed decisions. Here’s how it contributes to business decision-making:  \n",
    "* Identifying Trends and Patterns   \n",
    "    * Example: A retail company analyzes customer purchase history through sales trend graphs.\n",
    "    * Decision Impact: Helps in forecasting demand, optimizing inventory, and launching new products strategically.\n",
    "* 2. Enhancing Real-Time Monitoring\n",
    "    * Example: A logistics company uses real-time dashboards to track deliveries.\n",
    "    * Decision Impact: Detects delays early, allowing for quick route adjustments to ensure timely deliveries.  \n",
    "* 3. Improving Financial Planning and Forecasting\n",
    "    * Example: A finance team visualizes revenue, expenses, and cash flow using line charts.\n",
    "    * Decision Impact: Helps in budgeting, cost-cutting, and making investment decisions.\n",
    "* Optimizing Marketing Strategies\n",
    "    * Example: A marketing team tracks campaign performance with visualized customer engagement data.\n",
    "    * Decision Impact: Identifies high-performing ads, refines targeting strategies, and improves return on investment (ROI).\n",
    "*  Detecting Anomalies and Fraud\n",
    "    * Example: A bank uses fraud detection dashboards to identify unusual transaction patterns.\n",
    "    * Decision Impact: Helps prevent financial fraud and enhances security measures.\n",
    "\n"
   ]
  },
  {
   "cell_type": "markdown",
   "id": "820b50f4-522a-4d51-b01b-a54c8d063e44",
   "metadata": {},
   "source": [
    "### The table"
   ]
  },
  {
   "cell_type": "code",
   "execution_count": 38,
   "id": "41051850-73f7-4139-87fa-8f0be2ce77c1",
   "metadata": {},
   "outputs": [],
   "source": [
    "import pandas as pd\n",
    "import matplotlib.pyplot as plt"
   ]
  },
  {
   "cell_type": "code",
   "execution_count": 35,
   "id": "2b3405d4-41ed-4920-aeb0-4c1ef5bb90d6",
   "metadata": {},
   "outputs": [
    {
     "name": "stdout",
     "output_type": "stream",
     "text": [
      "    Name  Mobile_Sales  TV_Sales\n",
      "0  Ahmed          2540      2200\n",
      "1   Omar          1370      1900\n",
      "2    Ali          1320      2150\n",
      "3   Zaid          2000      1850\n",
      "4  Salwa          2100      1770\n",
      "5   Lila          2150      2000\n"
     ]
    }
   ],
   "source": [
    "table = {\n",
    "    'Name': ['Ahmed', 'Omar', 'Ali', 'Zaid', 'Salwa', 'Lila'],\n",
    "    'Mobile_Sales': [2540, 1370, 1320, 2000, 2100, 2150], \n",
    "    'TV_Sales': [2200, 1900, 2150, 1850, 1770, 2000]\n",
    "}\n",
    "\n",
    "table_df = pd.DataFrame(table)\n",
    "print(table_df)"
   ]
  },
  {
   "cell_type": "markdown",
   "id": "c3bf15ae-a5d9-4134-b6d3-556f25ff4787",
   "metadata": {},
   "source": [
    "#### Bar chart"
   ]
  },
  {
   "cell_type": "code",
   "execution_count": null,
   "id": "b54f6d7e-e3e5-4f0b-9f97-fb4732d2c438",
   "metadata": {},
   "outputs": [],
   "source": [
    "plt.bar([i for i in table['Name'], )"
   ]
  }
 ],
 "metadata": {
  "kernelspec": {
   "display_name": "Python 3 (ipykernel)",
   "language": "python",
   "name": "python3"
  },
  "language_info": {
   "codemirror_mode": {
    "name": "ipython",
    "version": 3
   },
   "file_extension": ".py",
   "mimetype": "text/x-python",
   "name": "python",
   "nbconvert_exporter": "python",
   "pygments_lexer": "ipython3",
   "version": "3.12.4"
  }
 },
 "nbformat": 4,
 "nbformat_minor": 5
}
